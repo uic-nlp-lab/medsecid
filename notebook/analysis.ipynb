{
 "cells": [
  {
   "cell_type": "markdown",
   "id": "804005e5",
   "metadata": {},
   "source": [
    "# Data Visualization of Section Identification"
   ]
  },
  {
   "cell_type": "markdown",
   "id": "37c64b7b",
   "metadata": {},
   "source": [
    "## Set up enviornment and import notebook modules"
   ]
  },
  {
   "cell_type": "code",
   "execution_count": null,
   "id": "1a8efc1e",
   "metadata": {
    "scrolled": true
   },
   "outputs": [],
   "source": [
    "import itertools as it\n",
    "from nbharness import AppNotebookHarness, create_subplots\n",
    "\n",
    "text_cells = False\n",
    "harness = AppNotebookHarness()\n",
    "analyzer = harness.get_analyzer()"
   ]
  },
  {
   "cell_type": "markdown",
   "id": "9858b076",
   "metadata": {},
   "source": [
    "## Sample of a discharge summary note"
   ]
  },
  {
   "cell_type": "code",
   "execution_count": null,
   "id": "e2913180",
   "metadata": {
    "scrolled": false
   },
   "outputs": [],
   "source": [
    "from sidmodel import AnnotationNote, NoteFeatureDocument\n",
    "doc: NoteFeatureDocument = next(iter(analyzer.doc_stash.values()))\n",
    "anon: AnnotationNote = doc.anon_note\n",
    "if text_cells:\n",
    "    print('hadm:', anon.hadm_id, ', row_id:', anon.row_id, ', category:', anon.category)\n",
    "    print(doc.text[:300])"
   ]
  },
  {
   "cell_type": "markdown",
   "id": "4a4a17a5",
   "metadata": {},
   "source": [
    "## Sentence sample\n",
    "\n",
    "Show a few sentences and the first three tokens of each."
   ]
  },
  {
   "cell_type": "code",
   "execution_count": null,
   "id": "15705c5a",
   "metadata": {
    "scrolled": true
   },
   "outputs": [],
   "source": [
    "if text_cells:\n",
    "    for sent in it.islice(doc.sents, 2):\n",
    "        print('<<' + sent.text + '>>')\n",
    "        for tok in sent.token_iter(3):\n",
    "            print(tok, tok.cui_, tok.pref_name_)\n",
    "        print('-' * 80)"
   ]
  },
  {
   "cell_type": "markdown",
   "id": "6d434253",
   "metadata": {},
   "source": [
    "## Sample of header and section"
   ]
  },
  {
   "cell_type": "code",
   "execution_count": null,
   "id": "77ecb91b",
   "metadata": {
    "scrolled": true
   },
   "outputs": [],
   "source": [
    "if text_cells:\n",
    "    for sec in it.islice(anon.sections, 2):\n",
    "        toks = doc.get_section_tokens(sec)\n",
    "        head_toks = ' '.join(map(lambda t: t.norm, filter(lambda t: t.is_header, toks)))\n",
    "        body_toks = ' '.join(map(lambda t: t.norm, toks))\n",
    "        print(head_toks)\n",
    "        print('-' * 40)\n",
    "        print(body_toks)\n",
    "        print('=' * 80)"
   ]
  },
  {
   "cell_type": "markdown",
   "id": "9f1a277c",
   "metadata": {},
   "source": [
    "## Plot CUIs by Section 2D\n",
    "\n",
    "Extract the CUIs from each section across all notes and plot across each section."
   ]
  },
  {
   "cell_type": "code",
   "execution_count": null,
   "id": "66bd2b1f",
   "metadata": {
    "scrolled": false
   },
   "outputs": [],
   "source": [
    "analyzer = harness.get_analyzer(\n",
    "    tfidf_threshold = 0.01,\n",
    "    outlier_proportion=0.1\n",
    ")\n",
    "analyzer.tfidf_sections = {'past-surgical-history', 'past-medical-history'}\n",
    "analyzer.section_plot_2d()"
   ]
  },
  {
   "cell_type": "markdown",
   "id": "f84b85c2",
   "metadata": {},
   "source": [
    "## Plot Section 3D\n",
    "\n",
    "24 hour events, addendum, history hospital: this is what patient's time in hospital--their story\n",
    "asses and plan, and hosptial course are more overview of treatment plan"
   ]
  },
  {
   "cell_type": "code",
   "execution_count": null,
   "id": "dde33ac3",
   "metadata": {
    "scrolled": false
   },
   "outputs": [],
   "source": [
    "sec_comb = 0\n",
    "analyzer = harness.get_analyzer(\n",
    "    plot_components=True,\n",
    "    outlier_proportion=0.1,\n",
    "    calc_per_section=False,\n",
    "    tfidf_threshold = 0.00001,\n",
    "    tfidf_sections = set({0: 'past-medical-history past-surgical-history',\n",
    "                          1: 'past-surgical-history',\n",
    "                          2: 'past-medical-history',\n",
    "                          6: 'code-status assessment-and-plan',\n",
    "                          7: 'wet-read indication',\n",
    "                          8: 'medication-history past-medical-history',\n",
    "                          9: 'disposition labs-imaging',\n",
    "                          10: 'impression image-type',\n",
    "                          11: 'findings image-type',\n",
    "                          12: 'chief-complaint discharge-condition',\n",
    "                          13: 'patient-test-information procedure',\n",
    "                          14: 'flowsheet-data-vitals indication',\n",
    "                          15: '24-hour-events patient-test-information',\n",
    "                          16: 'clinical-implications code-status'\n",
    "                         }[sec_comb].split()))\n",
    "#analyzer.set_tfidf_section_by_index(-1)\n",
    "#analyzer.dim_reduction_meth = 'svd'\n",
    "#analyzer.height = 800\n",
    "if 1:\n",
    "#    analyzer.normalize = 'unit'\n",
    "#    analyzer.normalize = 'standardize'\n",
    "    analyzer.axis_range = 2.7\n",
    "else:\n",
    "    analyzer.plot_type = 'rand'\n",
    "    analyzer.axis_range = 200\n",
    "    analyzer.tfidf_sections = {'past-medical-history'}\n",
    "analyzer.section_plot_3d()\n",
    "for dr in analyzer.dim_reducers:\n",
    "    dr.write()"
   ]
  },
  {
   "cell_type": "markdown",
   "id": "2d32cb87",
   "metadata": {},
   "source": [
    "## Plot section, Adam's idea"
   ]
  },
  {
   "cell_type": "code",
   "execution_count": null,
   "id": "f198b5e2",
   "metadata": {
    "scrolled": false
   },
   "outputs": [],
   "source": [
    "# current meds, discharge meds, med history, past{med,sur}\n",
    "#\n",
    "# great graph: orthogonal across past surgical history and past medical history\n",
    "# adam: past medical history might be covariate with surgical history because someone with vascular dis. might later need (adam to send writeup)\n",
    "\n",
    "# kunal on non-covariate: past med history are all desease that don't need surgical intervention for management;\n",
    "# past medical terms; data shows which terms are more likely to have surgical intervention and which do not;\n",
    "\n",
    "# Example: someone has lung cancer they will require; some cancers in blood that didn't \n",
    "\n",
    "# separates out which cancer are amenable to surgical correction\n",
    "# separates those types of issues that require medication and NOT surgury (past-medical-history)  vs. surgical intervention (past-surgical-history)\n",
    "\n",
    "analyzer = harness.get_analyzer(\n",
    "    outlier_significance=0.1,\n",
    "    tfidf_threshold = 0.01,\n",
    "#    normalize = 'unit',\n",
    ")\n",
    "analyzer.section_plot_3d()"
   ]
  },
  {
   "cell_type": "markdown",
   "id": "371e60b9",
   "metadata": {},
   "source": [
    "## Plot by Age Type"
   ]
  },
  {
   "cell_type": "code",
   "execution_count": null,
   "id": "134a00e2",
   "metadata": {
    "scrolled": false
   },
   "outputs": [],
   "source": [
    "analyzer = harness.get_analyzer(\n",
    "    plot_type='age'\n",
    "    #normalize = True\n",
    ")\n",
    "analyzer.section_plot_3d()"
   ]
  },
  {
   "cell_type": "markdown",
   "id": "447e2b96",
   "metadata": {},
   "source": [
    "## TSNE on Sections"
   ]
  },
  {
   "cell_type": "code",
   "execution_count": null,
   "id": "c9bbaf45",
   "metadata": {
    "scrolled": false
   },
   "outputs": [],
   "source": [
    "import itertools as it\n",
    "from nbharness import AppNotebookHarness, create_subplots\n",
    "\n",
    "text_cells = False\n",
    "harness = AppNotebookHarness()\n",
    "analyzer = harness.get_analyzer(\n",
    "    dim_reduction_meth = 'tsne',\n",
    "    tfidf_threshold = 0.1,\n",
    "    outlier_significance=0.3,\n",
    "#    normalize='unit',\n",
    ")\n",
    "#analyzer.tfidf_sections = {'labs-imaging', 'past-surgical-history', 'physical-examination'}\n",
    "#analyzer.tfidf_sections = {'past-medical-history', 'past-surgical-history'}\n",
    "analyzer.section_plot_3d()"
   ]
  },
  {
   "cell_type": "markdown",
   "id": "c251215a",
   "metadata": {},
   "source": [
    "## Plot discharge summary against radiology"
   ]
  },
  {
   "cell_type": "code",
   "execution_count": null,
   "id": "9aef68ca",
   "metadata": {
    "scrolled": false
   },
   "outputs": [],
   "source": [
    "analyzer = harness.get_analyzer(\n",
    "    plot_type='shared',\n",
    "    tfidf_threshold = 0.1,\n",
    "    outlier_significance=0.1,\n",
    ")\n",
    "analyzer.section_plot_3d()"
   ]
  }
 ],
 "metadata": {
  "kernelspec": {
   "display_name": "Python 3 (ipykernel)",
   "language": "python",
   "name": "python3"
  },
  "language_info": {
   "codemirror_mode": {
    "name": "ipython",
    "version": 3
   },
   "file_extension": ".py",
   "mimetype": "text/x-python",
   "name": "python",
   "nbconvert_exporter": "python",
   "pygments_lexer": "ipython3",
   "version": "3.9.9"
  }
 },
 "nbformat": 4,
 "nbformat_minor": 5
}
